{
  "cells": [
    {
      "cell_type": "markdown",
      "metadata": {
        "id": "view-in-github",
        "colab_type": "text"
      },
      "source": [
        "<a href=\"https://colab.research.google.com/github/lilteeth/Python/blob/main/Notebooks%20U01/OP1-02-Variaveis.ipynb\" target=\"_parent\"><img src=\"https://colab.research.google.com/assets/colab-badge.svg\" alt=\"Open In Colab\"/></a>"
      ]
    },
    {
      "cell_type": "markdown",
      "metadata": {
        "id": "I_UpKJ4iZAhA"
      },
      "source": [
        "<img src='https://github.com/pjandl/opy1/blob/master/Notebooks%20U01/op1-u01.png?raw=1'/>\n",
        "<h2><font color='#7F0000'>OP1-02-Variáveis</font></h2>"
      ]
    },
    {
      "cell_type": "code",
      "execution_count": null,
      "metadata": {
        "id": "n0ai2RJzZAhE"
      },
      "outputs": [],
      "source": [
        "# Uma variável é um símbolo ao qual associamos um valor.\n",
        "# A sintaxe de definição de variáveis é:\n",
        "# nome = valorInicial\n",
        "# O símbolo = é o operador de atribuição."
      ]
    },
    {
      "cell_type": "markdown",
      "metadata": {
        "id": "UinrYpl1ZAhG"
      },
      "source": [
        "## Definição de variáveis"
      ]
    },
    {
      "cell_type": "code",
      "execution_count": null,
      "metadata": {
        "id": "4qj5HH9qZAhG"
      },
      "outputs": [],
      "source": [
        "# Variáveis para conter números inteiros\n",
        "i = 3\n",
        "contador = 7"
      ]
    },
    {
      "cell_type": "code",
      "execution_count": null,
      "metadata": {
        "id": "mECKT7IrZAhH"
      },
      "outputs": [],
      "source": [
        "# Usar o nome da variável recupera (lê) seu valor\n",
        "contador"
      ]
    },
    {
      "cell_type": "code",
      "execution_count": null,
      "metadata": {
        "id": "jK7fgQ4-ZAhI"
      },
      "outputs": [],
      "source": [
        "# Usar o nome da variável recupera (lê) seu valor\n",
        "i"
      ]
    },
    {
      "cell_type": "code",
      "execution_count": null,
      "metadata": {
        "id": "oaxqanqAZAhI"
      },
      "outputs": [],
      "source": [
        "# Variáveis para conter números reais\n",
        "valor = 0.23\n",
        "fator = -4.56"
      ]
    },
    {
      "cell_type": "code",
      "execution_count": null,
      "metadata": {
        "id": "F8mTruUoZAhJ"
      },
      "outputs": [],
      "source": [
        "# Variáveis para conter Strings\n",
        "nome = \"Peter Jandl Jr\"\n",
        "oficina = 'Python'"
      ]
    },
    {
      "cell_type": "code",
      "execution_count": null,
      "metadata": {
        "id": "VWRBlL7_ZAhK"
      },
      "outputs": [],
      "source": [
        "# Variáveis para conter valores lógicos\n",
        "flag = True\n",
        "entrada = False"
      ]
    },
    {
      "cell_type": "code",
      "execution_count": null,
      "metadata": {
        "id": "tQfEmNaRZAhL"
      },
      "outputs": [],
      "source": [
        "# Variáveis para conter valores complexos (parte real + parte imaginária)\n",
        "complexo1 = 1 + 2j\n",
        "# j é o sufixo usado para indicar a parte imaginária do número complexo\n",
        "complexo2 = -0.3 + 1.9j"
      ]
    },
    {
      "cell_type": "markdown",
      "metadata": {
        "id": "h5KAfFTcZAhL"
      },
      "source": [
        "## Exibição das variáveis"
      ]
    },
    {
      "cell_type": "code",
      "execution_count": null,
      "metadata": {
        "id": "w49-jX3AZAhM"
      },
      "outputs": [],
      "source": [
        "# Exibição de variáveis existentes\n",
        "print(i)\n",
        "print(valor)\n",
        "print(complexo2)"
      ]
    },
    {
      "cell_type": "code",
      "execution_count": null,
      "metadata": {
        "id": "UfWdQL24ZAhM"
      },
      "outputs": [],
      "source": [
        "# Não se pode exibir (ou usar) variáveis que não foram declaradas\n",
        "print(x)"
      ]
    },
    {
      "cell_type": "code",
      "execution_count": null,
      "metadata": {
        "id": "vpLkNkCCZAhM"
      },
      "outputs": [],
      "source": [
        "# Novas variáveis podem usar expressões com variáveis existentes\n",
        "a = contador * valor\n",
        "print(a)\n",
        "print(contador, \"*\", valor, \"=\", a)"
      ]
    },
    {
      "cell_type": "markdown",
      "metadata": {
        "id": "7gUsNFMsZAhN"
      },
      "source": [
        "## Tipo das variáveis"
      ]
    },
    {
      "cell_type": "code",
      "execution_count": null,
      "metadata": {
        "id": "UzfX0Pd5ZAhN"
      },
      "outputs": [],
      "source": [
        "# Python oferece uma função embutida type() que retorna \n",
        "# o tipo (do conteúdo) de qualquer variável existente.\n",
        "type(i)"
      ]
    },
    {
      "cell_type": "code",
      "execution_count": null,
      "metadata": {
        "id": "s5v00lQsZAhN"
      },
      "outputs": [],
      "source": [
        "# O resultado de type pode ser impresso\n",
        "print(type(i))"
      ]
    },
    {
      "cell_type": "code",
      "execution_count": null,
      "metadata": {
        "id": "2vM1iFenZAhN"
      },
      "outputs": [],
      "source": [
        "# Observe os resultados produzidos para as variáveis\n",
        "# contador, valor, flag, oficina, complexo1\n",
        "print(\"tipo da variável 'contador':\", type(contador))\n",
        "print(\"tipo da variável 'valor':\", type(valor))\n",
        "print(\"tipo da variável 'flag':\", type(flag))\n",
        "print(\"tipo da variável 'oficina':\", type(oficina))\n",
        "print(\"tipo da variável 'complexo1':\", type(complexo1))"
      ]
    },
    {
      "cell_type": "code",
      "execution_count": null,
      "metadata": {
        "id": "AOUrcEAPZAhO"
      },
      "outputs": [],
      "source": [
        "# A função type() pode ser usada para tudo!\n",
        "print(type(print))\n",
        "print(type(type))"
      ]
    },
    {
      "cell_type": "markdown",
      "metadata": {
        "id": "C2OTnqpQZAhO"
      },
      "source": [
        "### FIM\n",
        "### <a href=\"http://github.com/pjandl/opy1\">Oficina Python Básico</a>"
      ]
    }
  ],
  "metadata": {
    "kernelspec": {
      "display_name": "Python 3",
      "language": "python",
      "name": "python3"
    },
    "language_info": {
      "codemirror_mode": {
        "name": "ipython",
        "version": 3
      },
      "file_extension": ".py",
      "mimetype": "text/x-python",
      "name": "python",
      "nbconvert_exporter": "python",
      "pygments_lexer": "ipython3",
      "version": "3.8.5"
    },
    "colab": {
      "name": "OP1-02-Variaveis.ipynb",
      "provenance": [],
      "include_colab_link": true
    }
  },
  "nbformat": 4,
  "nbformat_minor": 0
}